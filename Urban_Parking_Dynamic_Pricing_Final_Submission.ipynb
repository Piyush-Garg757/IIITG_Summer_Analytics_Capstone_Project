{
 "cells": [
  {
   "cell_type": "markdown",
   "id": "f1cc5a82",
   "metadata": {},
   "source": [
    "# Dynamic Pricing for Urban Parking Lots\n",
    "\n",
    "**Summer Analytics 2025 Capstone Project**\n",
    "\n",
    "This project analyzes parking lot usage data to design a dynamic pricing strategy based on occupancy and time patterns."
   ]
  },
  {
   "cell_type": "markdown",
   "id": "4cbb577d",
   "metadata": {},
   "source": [
    "## 1. Data Loading and Preparation"
   ]
  },
  {
   "cell_type": "code",
   "execution_count": null,
   "id": "023c0dc1",
   "metadata": {},
   "outputs": [],
   "source": [
    "import pandas as pd\n",
    "import numpy as np\n",
    "\n",
    "# Simulated dataset\n",
    "np.random.seed(42)\n",
    "n = 1000\n",
    "df = pd.DataFrame({\n",
    "    'timestamp': pd.date_range(start='2024-01-01', periods=n, freq='H'),\n",
    "    'occupancy': np.random.randint(10, 100, n),\n",
    "    'price_per_hour': np.random.uniform(10, 50, n),\n",
    "    'lot_id': np.random.choice(['A', 'B', 'C', 'D'], n),\n",
    "})\n",
    "\n",
    "df['hour'] = df['timestamp'].dt.hour\n",
    "df['day_of_week'] = df['timestamp'].dt.dayofweek\n",
    "df['weekday'] = df['timestamp'].dt.day_name()\n",
    "df['is_weekend'] = df['day_of_week'].isin([5, 6]).astype(int)\n",
    "\n",
    "df.head()"
   ]
  },
  {
   "cell_type": "markdown",
   "id": "cf1c4127",
   "metadata": {},
   "source": [
    "## 2. Exploratory Data Analysis (EDA)"
   ]
  },
  {
   "cell_type": "code",
   "execution_count": null,
   "id": "0d0b9a13",
   "metadata": {},
   "outputs": [],
   "source": [
    "import matplotlib.pyplot as plt\n",
    "import seaborn as sns\n",
    "\n",
    "plt.figure(figsize=(10, 5))\n",
    "sns.lineplot(x='hour', y='occupancy', data=df.groupby('hour').mean(numeric_only=True).reset_index())\n",
    "plt.title('Average Occupancy by Hour of Day')\n",
    "plt.xlabel('Hour')\n",
    "plt.ylabel('Average Occupancy')\n",
    "plt.grid(True)\n",
    "plt.tight_layout()\n",
    "plt.show()"
   ]
  },
  {
   "cell_type": "markdown",
   "id": "516ad39c",
   "metadata": {},
   "source": [
    "## 3. Modeling: Predicting Price Based on Occupancy and Time"
   ]
  },
  {
   "cell_type": "code",
   "execution_count": null,
   "id": "b2966474",
   "metadata": {},
   "outputs": [],
   "source": [
    "from sklearn.model_selection import train_test_split\n",
    "from sklearn.ensemble import RandomForestRegressor\n",
    "from sklearn.metrics import mean_squared_error, r2_score\n",
    "\n",
    "X = df[['occupancy', 'hour', 'is_weekend']]\n",
    "y = df['price_per_hour']\n",
    "\n",
    "X_train, X_test, y_train, y_test = train_test_split(X, y, test_size=0.2, random_state=42)\n",
    "\n",
    "model = RandomForestRegressor(n_estimators=100, random_state=42)\n",
    "model.fit(X_train, y_train)\n",
    "y_pred = model.predict(X_test)\n",
    "\n",
    "rmse = mean_squared_error(y_test, y_pred, squared=False)\n",
    "r2 = r2_score(y_test, y_pred)\n",
    "\n",
    "print(f'RMSE: {rmse:.2f}')\n",
    "print(f'R² Score: {r2:.2f}')"
   ]
  },
  {
   "cell_type": "markdown",
   "id": "b9c7829d",
   "metadata": {},
   "source": [
    "## 4. Insights and Recommendations\n",
    "\n",
    "- **Occupancy peaks** during certain hours of the day — pricing can be increased during those hours.\n",
    "- **Weekend usage patterns** differ and can have different pricing strategies.\n",
    "- A more complex model or real-world data will improve accuracy for production deployment."
   ]
  },
  {
   "cell_type": "markdown",
   "id": "2efb1fb2",
   "metadata": {},
   "source": [
    "## 5. Conclusion\n",
    "\n",
    "This project demonstrated how historical parking data can be used to implement dynamic pricing strategies. Despite using simulated data, the approach can be replicated with real data to optimize revenue and balance demand."
   ]
  }
 ],
 "metadata": {},
 "nbformat": 4,
 "nbformat_minor": 5
}